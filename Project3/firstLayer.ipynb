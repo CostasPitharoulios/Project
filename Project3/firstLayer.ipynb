{
 "cells": [
  {
   "cell_type": "markdown",
   "metadata": {},
   "source": [
    "# Ερώτημα Β\n",
    "##### Load and compile the pretrained model "
   ]
  },
  {
   "cell_type": "code",
   "execution_count": null,
   "metadata": {},
   "outputs": [],
   "source": [
    "import numpy as np\n",
    "from keras.models import load_model\n",
    "from numpy import genfromtxt\n",
    "\n",
    "# Load Pretrained model\n",
    "model = load_model('WindDenseNN.h5')\n",
    "model.compile(optimizer='rmsprop', loss='mse')\n",
    "\n",
    "inputFile = 'nn_representations.csv'\n",
    "# Read x_test\n",
    "x_test = genfromtxt(inputFile, delimiter=',')\n",
    "\n",
    "# Delete id column\n",
    "x_test = np.delete(x_test,0,1)"
   ]
  },
  {
   "cell_type": "markdown",
   "metadata": {},
   "source": [
    "##### Create new model that consists of the dense_1 layer "
   ]
  },
  {
   "cell_type": "code",
   "execution_count": null,
   "metadata": {},
   "outputs": [],
   "source": [
    "from keras.models import Model\n",
    "\n",
    "model_new = Model(input=model.layers[0].input, \n",
    "                  output=model.layers[0].output)\n",
    "model_new.compile(optimizer='rmsprop', loss='mse')\n",
    "\n",
    "model_new.summary()"
   ]
  },
  {
   "cell_type": "markdown",
   "metadata": {},
   "source": [
    "##### Make predictions and write them to the output file "
   ]
  },
  {
   "cell_type": "code",
   "execution_count": null,
   "metadata": {},
   "outputs": [],
   "source": [
    "   \n",
    "y_pred = model_new.predict(x_test)\n",
    "print(y_pred.shape)\n",
    "\n",
    "\n",
    "outputFile=\"d64.csv\"\n",
    "\n",
    "# Read timestamps\n",
    "fp = open(inputFile, 'r')\n",
    "line = fp.readline()\n",
    "timestamps = list()\n",
    "while line:\n",
    "    timestamps.append(line.split(',')[0])\n",
    "    line = fp.readline()\n",
    "fp.close()\n",
    "\n",
    "# Concatinate timestamps with predictions\n",
    "results = np.concatenate((np.array(timestamps).reshape(len(timestamps),1),y_pred),axis=1)\n",
    "\n",
    "# Write predicitons to file\n",
    "f = open(outputFile, \"ab\")\n",
    "np.savetxt(f,results,delimiter=',',fmt='%s')\n",
    "f.close()"
   ]
  }
 ],
 "metadata": {
  "kernelspec": {
   "display_name": "Python 3",
   "language": "python",
   "name": "python3"
  },
  "language_info": {
   "codemirror_mode": {
    "name": "ipython",
    "version": 3
   },
   "file_extension": ".py",
   "mimetype": "text/x-python",
   "name": "python",
   "nbconvert_exporter": "python",
   "pygments_lexer": "ipython3",
   "version": "3.7.3"
  }
 },
 "nbformat": 4,
 "nbformat_minor": 2
}
