{
 "cells": [
  {
   "cell_type": "markdown",
   "metadata": {},
   "source": [
    "# Ερώτημα Α"
   ]
  },
  {
   "cell_type": "markdown",
   "metadata": {},
   "source": [
    "##### Load and compile the model, and make the prediction."
   ]
  },
  {
   "cell_type": "code",
   "execution_count": null,
   "metadata": {},
   "outputs": [],
   "source": [
    "import numpy as np\n",
    "from keras.models import load_model\n",
    "from sklearn.metrics import mean_squared_error, mean_absolute_error \n",
    "from numpy import genfromtxt\n",
    "\n",
    "if __name__ == \"__main__\":\n",
    "\n",
    "    # Load Pretrained model\n",
    "    model = load_model('WindDenseNN.h5')\n",
    "    model.summary()\n",
    "\n",
    "    model.compile(optimizer='rmsprop', loss='mse')\n",
    "\n",
    "    # Read x_test\n",
    "    x_test = genfromtxt('nn_representations.csv', delimiter=',')\n",
    "\n",
    "    # Delete id column\n",
    "    x_test = np.delete(x_test,0,1)\n",
    "\n",
    "    # Make prediction\n",
    "    y_pred = model.predict(x_test)\n",
    "    #print(y_pred.shape)\n",
    "\n",
    "    # Read actual y_test\n",
    "    y_test = np.genfromtxt('actual.csv', delimiter=',')\n",
    "    y_test = np.delete(y_test,0,1)\n",
    "\n"
   ]
  },
  {
   "cell_type": "markdown",
   "metadata": {},
   "source": [
    "##### Mean Absolute Precentage function"
   ]
  },
  {
   "cell_type": "code",
   "execution_count": null,
   "metadata": {},
   "outputs": [],
   "source": [
    "def mape(y_true, y_pred):\n",
    "    y_true = np.array(y_true)\n",
    "    y_pred = np.array(y_pred)\n",
    "    a = []\n",
    "    for i in range(len(y_true)):\n",
    "        if(0 not in y_true[i]):\n",
    "            a.append((y_true[i]-y_pred[i])/y_true[i])\n",
    "    a = np.array(a)\n",
    "    \n",
    "    return np.mean(np.abs(a)) * 100\n",
    "\n"
   ]
  },
  {
   "cell_type": "markdown",
   "metadata": {},
   "source": [
    "##### Compute the errors and write in file"
   ]
  },
  {
   "cell_type": "code",
   "execution_count": null,
   "metadata": {},
   "outputs": [],
   "source": [
    "    mse = mean_squared_error(y_test,y_pred)\n",
    "    mae = mean_absolute_error(y_test,y_pred)\n",
    "    mape = mape(y_test,y_pred)\n",
    "\n",
    "    # Write in output file\n",
    "    outputFile = \"output.txt\"\n",
    "    f = open(outputFile, \"w\")\n",
    "    f.write(\"MAE:\"+ str(mae) +\"  MAPE:\"+ str(mape)+\"  MSE:\"+ str(mse) + \"\\n\")\n",
    "    f.close()"
   ]
  },
  {
   "cell_type": "markdown",
   "metadata": {},
   "source": [
    "##### Read timestamps from file"
   ]
  },
  {
   "cell_type": "code",
   "execution_count": null,
   "metadata": {},
   "outputs": [],
   "source": [
    "    fp = open('actual.csv', 'r')\n",
    "    line = fp.readline()\n",
    "    timestamps = list()\n",
    "    while line:\n",
    "        timestamps.append(line.split(',')[0])\n",
    "        line = fp.readline()\n",
    "    fp.close()\n",
    "    \n",
    "    # Concatinate timestamps with predictions\n",
    "    results = np.concatenate((np.array(timestamps).reshape(len(timestamps),1),y_pred),axis=1)"
   ]
  },
  {
   "cell_type": "markdown",
   "metadata": {},
   "source": [
    "##### Write output to file"
   ]
  },
  {
   "cell_type": "code",
   "execution_count": null,
   "metadata": {},
   "outputs": [],
   "source": [
    "    f = open(outputFile, \"ab\")\n",
    "    np.savetxt(f,results,delimiter=',',fmt='%s')\n",
    "    f.close()"
   ]
  }
 ],
 "metadata": {
  "kernelspec": {
   "display_name": "Python 3",
   "language": "python",
   "name": "python3"
  },
  "language_info": {
   "codemirror_mode": {
    "name": "ipython",
    "version": 3
   },
   "file_extension": ".py",
   "mimetype": "text/x-python",
   "name": "python",
   "nbconvert_exporter": "python",
   "pygments_lexer": "ipython3",
   "version": "3.7.3"
  }
 },
 "nbformat": 4,
 "nbformat_minor": 2
}
